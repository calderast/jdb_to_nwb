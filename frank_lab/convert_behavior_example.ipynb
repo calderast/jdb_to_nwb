{
 "cells": [
  {
   "cell_type": "markdown",
   "metadata": {},
   "source": [
    "## Usage\n",
    "\n",
    "Provide the path to a Frank Lab nwbfile with statescriptlogs saved as AssociatedFiles objects and behavioral event DIOs in the behavior processing module.\n",
    "\n",
    "Also provide the path to the excel sheet of experimental notes (including maze configurations for each block in column 'barrier location'), and the name of the sheet tab (defaults to 'Daily configs and notes_Bandit+' if not specified.)\n",
    "\n",
    "Specify save_type: `\"pickle\"` or `\"csv\"` to save the trial and block dataframes for each epoch as .pkl or .csv files, `\"nwb\"` to save the trial and block data directly as time intervals in the nwbfile. It is possible to combine save types, e.g. `save_type=\"pickle,nwb\"`.\n",
    "\n",
    "Additional argument `overwrite` specifies if existing block and trials data in the nwbfile should be overwritten. Applies only to `save_type=\"nwb\"`. Keeping `overwrite=False` is a good protection against rewriting the file over and over (it will write to the file the first time if there is no existing trial and block data, then stop and complain.)\n",
    "\n",
    "#### Example\n",
    "```\n",
    "nwb_path = 'data/BraveLu20240519_copy.nwb'\n",
    "excel_path = 'data/BraveLu_experimental_notes.xlsx'\n",
    "sheet_name = 'Daily configs and notes_Bandit+'\n",
    "add_behavioral_data_to_nwb(nwb_path=nwb_path, excel_path=excel_path, sheet_name=sheet_name, save_type=\"nwb\", overwrite=True)\n",
    "```\n",
    "\n",
    "### Deleting block and trials table from the nwb\n",
    "If you need to delete the block and trials table from the nwb, run:\n",
    "```\n",
    "nwb_path = 'data/BraveLu20240519_copy.nwb'\n",
    "delete_blocks_and_trials_from_nwb(nwb_path)\n",
    "```\n",
    "\n",
    "This function deletes block and trials tables (stored as TimeIntervals) from an nwbfile if they exist. \n",
    "This modifies the file in-place. Note that this will not actually reduce the file size due to limitations in the HDF5 format."
   ]
  },
  {
   "cell_type": "code",
   "execution_count": null,
   "metadata": {},
   "outputs": [],
   "source": [
    "from convert_behavior_Frank import add_behavioral_data_to_nwb, delete_blocks_and_trials_from_nwb\n",
    "\n",
    "nwb_path = 'data/BraveLu20240519_copy.nwb'\n",
    "excel_path = 'data/BraveLu_experimental_notes.xlsx'\n",
    "sheet_name = 'Daily configs and notes_Bandit+'\n",
    "hex_centroids_path = ''\n",
    "\n",
    "# Add trial and block data to the nwb (modifies existing nwb in-place)\n",
    "add_behavioral_data_to_nwb(nwb_path, excel_path, sheet_name=sheet_name, save_type=\"csv\", overwrite=False)\n",
    "\n",
    "# If needed, delete block and trials table from the nwb\n",
    "# delete_blocks_and_trials_from_nwb(nwb_path)\n",
    "\n"
   ]
  }
 ],
 "metadata": {
  "kernelspec": {
   "display_name": "jdb_to_nwb",
   "language": "python",
   "name": "python3"
  },
  "language_info": {
   "codemirror_mode": {
    "name": "ipython",
    "version": 3
   },
   "file_extension": ".py",
   "mimetype": "text/x-python",
   "name": "python",
   "nbconvert_exporter": "python",
   "pygments_lexer": "ipython3",
   "version": "3.12.8"
  }
 },
 "nbformat": 4,
 "nbformat_minor": 2
}
