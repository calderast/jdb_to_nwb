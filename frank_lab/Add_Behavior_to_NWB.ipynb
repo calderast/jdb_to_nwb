{
 "cells": [
  {
   "cell_type": "markdown",
   "metadata": {},
   "source": [
    "# Overview\n",
    "\n",
    "Adds behavior data (trial and block information) to a Frank Lab nwbfile.\n",
    "\n",
    "Trial and block tables are added as `TimeIntervals` (same as epochs).\n",
    "\n",
    "**Trial table** contains information: start_time, stop_time, epoch, block, trial_within_block, trial_within_epoch, start_port, end_port, reward, opto_condition, duration, poke_in, poke_out\n",
    "\n",
    "**Block table** contains information: start_time, stop_time, epoch, block, maze_configuration, pA, pB, pC, start_trial, end_trial,num_trials, task_type\n",
    "\n",
    "Also adds a table of **hex centroids** (in video pixel coordinates) to the nwbfile so we can assign the rat's position to the hex the rat was in. Hex centroids are added as a `DynamicTable` named `hex_centroids` in the nwbfile's behavior processing module.\n",
    "\n",
    "This modifies the nwbfile in-place.\n",
    "\n",
    "## Usage\n",
    "\n",
    "The following are needed:\n",
    "\n",
    "`nwb_path`: Path to a Frank Lab nwbfile with statescriptlogs saved as `AssociatedFiles` objects and behavioral event DIOs in the behavior processing module (this is the standard format for all Frank Lab nwbfiles).\n",
    "\n",
    "`excel_path`: Path to the excel sheet of experimental notes (including maze configurations for each block in column 'barrier location').\n",
    "\n",
    "`sheet_name`: (Optional) The name of the sheet tab in the excel file (defaults to 'Daily configs and notes_Bandit+' if not specified.)\n",
    "\n",
    "`hex_centroids_path`: Path to a csv of hex centroids in video pixel coordinates. This can be created using the [position_tracking/Get_Hex_Centroids.ipynb](position_tracking/Get_Hex_Centroids.ipynb) notebook.\n",
    "\n",
    "`save_type`: `\"pickle\"` or `\"csv\"` to save the trial and block dataframes for each epoch as .pkl or .csv files, `\"nwb\"` to save the trial and block data directly as time intervals in the nwbfile. It is possible to combine save types, e.g. `save_type=\"pickle,nwb\"`.\n",
    "\n",
    "Additional argument `overwrite` specifies if existing block and trials data in the nwbfile should be overwritten. Applies only to `save_type=\"nwb\"`. Keeping `overwrite=False` is a good protection against rewriting the file over and over (it will write to the file the first time if there is no existing trial and block data, then stop and complain.)\n",
    "\n",
    "## Conversion Logs\n",
    "\n",
    "Running the `add_behavioral_data_to_nwb` function will auto-generate a folder named `{session_id}_logs` containing logs recording everything that happened when parsing behavioral data and modifying the nwbfile. Check the `info` logs to track progress and the `warning` logs to make sure that nothing concerning (e.g. mismatched timestamps) happened. Note that warnings such as `Poke in at statescript time {time} may not match trial printed at {time}` may not always be cause for concern- this can happen even when trials are correctly matched, but there was a delay in statescript printing. DIO times (not statescript times) are always used as ground truth- general alignment with statescript times are just used to ensure everything is correctly matched and warn if there is anything that should be double-checked. Check the `debug` logs for complete information, including the exact timing of events.\n",
    "\n",
    "## Example \n",
    "```\n",
    "nwb_path = 'data/BraveLu20240519_copy.nwb'\n",
    "excel_path = 'data/BraveLu_experimental_notes.xlsx'\n",
    "sheet_name = 'Daily configs and notes_Bandit+'\n",
    "hex_centroids_path = 'data/hex_coordinates.csv'\n",
    "\n",
    "add_behavioral_data_to_nwb(nwb_path=nwb_path, excel_path=excel_path, sheet_name=sheet_name, hex_centroids_file_path=hex_centroids_path, save_type=\"nwb\", overwrite=True)\n",
    "```"
   ]
  },
  {
   "cell_type": "code",
   "execution_count": null,
   "metadata": {},
   "outputs": [
    {
     "name": "stderr",
     "output_type": "stream",
     "text": [
      "/Users/steph/miniforge3/envs/jdb_to_nwb/lib/python3.12/site-packages/hdmf/backends/hdf5/h5tools.py:663: BrokenLinkWarning: Path to Group altered/broken at /acquisition/e-series\n",
      "  warnings.warn('Path to Group altered/broken at ' + os.path.join(h5obj.name, k), BrokenLinkWarning)\n",
      "/Users/steph/miniforge3/envs/jdb_to_nwb/lib/python3.12/site-packages/hdmf/backends/hdf5/h5tools.py:663: BrokenLinkWarning: Path to Group altered/broken at /processing/analog\n",
      "  warnings.warn('Path to Group altered/broken at ' + os.path.join(h5obj.name, k), BrokenLinkWarning)\n"
     ]
    }
   ],
   "source": [
    "from convert_behavior_Frank_lab import add_behavioral_data_to_nwb\n",
    "import ndx_franklab_novela\n",
    "\n",
    "nwb_path = 'data/BraveLu20240519_copy.nwb'\n",
    "excel_path = 'data/BraveLu_experimental_notes.xlsx'\n",
    "sheet_name = 'Daily configs and notes_Bandit+'\n",
    "hex_centroids_path = 'position_tracking/hex_coordinates.csv'\n",
    "\n",
    "# Add trial and block data to the nwb (modifies existing nwb in-place)\n",
    "add_behavioral_data_to_nwb(nwb_path, excel_path, sheet_name=sheet_name, \n",
    "                           hex_centroids_file_path=hex_centroids_path, save_type=\"nwb\", overwrite=True)\n"
   ]
  },
  {
   "cell_type": "markdown",
   "metadata": {},
   "source": [
    "### Deleting block and trials table from the nwb\n",
    "If you need to delete the block and trials table from the nwb, run:\n",
    "\n",
    "```\n",
    "nwb_path = 'data/BraveLu20240519_copy.nwb'\n",
    "delete_blocks_and_trials_from_nwb(nwb_path)\n",
    "```\n",
    "\n",
    "This function deletes block and trials tables (stored as TimeIntervals) from the nwbfile if they exist. \n",
    "This modifies the file in-place. Note that this will not actually reduce the file size due to limitations in the HDF5 format."
   ]
  },
  {
   "cell_type": "code",
   "execution_count": 4,
   "metadata": {},
   "outputs": [
    {
     "name": "stdout",
     "output_type": "stream",
     "text": [
      "No block table to delete.\n",
      "No trials table to delete.\n"
     ]
    }
   ],
   "source": [
    "from convert_behavior_Frank_lab import delete_blocks_and_trials_from_nwb\n",
    "\n",
    "# If needed, delete block and trials table from the nwb\n",
    "delete_blocks_and_trials_from_nwb(nwb_path)"
   ]
  },
  {
   "cell_type": "markdown",
   "metadata": {},
   "source": [
    "### Deleting hex centroids table from the nwb\n",
    "If you need to delete the hex centroids table from the nwb, run:\n",
    "\n",
    "```\n",
    "nwb_path = 'data/BraveLu20240519_copy.nwb'\n",
    "delete_hex_centroids_from_nwb(nwb_path)\n",
    "```\n",
    "\n",
    "This function deletes the hex centroids (stored as a DynamicTable in the behavior processing module) from the nwbfile if it exists. \n",
    "This modifies the file in-place. Note that this will not actually reduce the file size due to limitations in the HDF5 format."
   ]
  },
  {
   "cell_type": "code",
   "execution_count": 6,
   "metadata": {},
   "outputs": [
    {
     "name": "stdout",
     "output_type": "stream",
     "text": [
      "No hex centroids table to delete.\n"
     ]
    }
   ],
   "source": [
    "from convert_behavior_Frank_lab import delete_hex_centroids_from_nwb\n",
    "\n",
    "# If needed, delete the hex centroids table from the nwb\n",
    "delete_hex_centroids_from_nwb(nwb_path)"
   ]
  }
 ],
 "metadata": {
  "kernelspec": {
   "display_name": "jdb_to_nwb",
   "language": "python",
   "name": "python3"
  },
  "language_info": {
   "codemirror_mode": {
    "name": "ipython",
    "version": 3
   },
   "file_extension": ".py",
   "mimetype": "text/x-python",
   "name": "python",
   "nbconvert_exporter": "python",
   "pygments_lexer": "ipython3",
   "version": "3.13.1"
  }
 },
 "nbformat": 4,
 "nbformat_minor": 2
}
