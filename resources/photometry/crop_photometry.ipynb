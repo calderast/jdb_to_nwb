{
 "cells": [
  {
   "cell_type": "markdown",
   "id": "0e70d2ae",
   "metadata": {},
   "source": [
    "## Helper notebook for cropping photometry signals\n",
    "\n",
    "\n",
    "Sometimes when recording photometry signals with LabVIEW, the signal cuts out and drops to zero! So we want to crop the signal to only valid recording times. Here we plot the raw signals to see where the drop happened, so we can set an appropriate `phot_end_time_mins` value in our metadata file.\n",
    "\n",
    "To load your raw photometry signals, either specify your `metadata_file_path` (assuming your metadata file includes `phot_file_path` and `box_file_path`), or just set `phot_file_path` and `box_file_path` directly."
   ]
  },
  {
   "cell_type": "code",
   "execution_count": null,
   "id": "e84fe7b5",
   "metadata": {},
   "outputs": [
    {
     "name": "stdout",
     "output_type": "stream",
     "text": [
      "10-Sep-25 14:59:04 [INFO] Reading LabVIEW .phot file into a dictionary...\n",
      "10-Sep-25 14:59:05 [DEBUG] Data read from LabVIEW .phot file at /Volumes/Tim/Photometry/IM-1875/20250718/IM-1875_2025-07-18_16-07-55____Tim_Conditioning.phot:\n",
      "10-Sep-25 14:59:05 [DEBUG] magic_key: 22289481\n",
      "10-Sep-25 14:59:05 [DEBUG] header_size: 20480\n",
      "10-Sep-25 14:59:05 [DEBUG] main_version: 0\n",
      "10-Sep-25 14:59:05 [DEBUG] secondary_version: 0\n",
      "10-Sep-25 14:59:05 [DEBUG] sampling_rate: 10000\n",
      "10-Sep-25 14:59:05 [DEBUG] bytes_per_sample: 2\n",
      "10-Sep-25 14:59:05 [DEBUG] num_channels: 8\n",
      "10-Sep-25 14:59:05 [DEBUG] file_name: C:\\Users\\BerkeLab\\Documents\\Labview\\IM-1875\\2025-07-18\\IM-1875_2025-07-18_16-07-55____Tim_Conditioning.phot                                                                                                                                                     \n",
      "10-Sep-25 14:59:05 [DEBUG] date: 2025-07-18                                                                                                                                                                                                                                                      \n",
      "10-Sep-25 14:59:05 [DEBUG] time: 16-07-55                                                                                                                                                                                                                                                        \n",
      "10-Sep-25 14:59:05 [DEBUG] channels: [{'location': 'DLS - Right                                                                                                                                                                                                                                                     ', 'signal': '470nm                                                                                                                                                                                                                                                           ', 'freq': 211, 'max_v': 0.2999969481490524, 'min_v': 0.0}, {'location': 'DLS - Right                                                                                                                                                                                                                                                     ', 'signal': '405nm                                                                                                                                                                                                                                                           ', 'freq': 531, 'max_v': 0.6500137333292642, 'min_v': 0.0}, {'location': 'NAcc-Core-Left                                                                                                                                                                                                                                                  ', 'signal': '470nm                                                                                                                                                                                                                                                           ', 'freq': 211, 'max_v': 1.0, 'min_v': 0.0}, {'location': 'NAcc-Core-Left                                                                                                                                                                                                                                                  ', 'signal': '405nm                                                                                                                                                                                                                                                           ', 'freq': 340, 'max_v': 1.0, 'min_v': 0.0}]\n",
      "10-Sep-25 14:59:05 [DEBUG] signal_label: ['AI0 - Photodetector 1                                                                                                                                                                                                                                           ', 'AI1 - Ch1 Excitation                                                                                                                                                                                                                                            ', 'AI2 - Ch2 Excitation                                                                                                                                                                                                                                            ', 'AI3 - Lockin 1                                                                                                                                                                                                                                                  ', 'AI4 - Lockin 2                                                                                                                                                                                                                                                  ', 'AI5 - Photodetector 2                                                                                                                                                                                                                                           ', 'AI6 -Ch3 Excitation                                                                                                                                                                                                                                             ', 'AI7- Ch4 Excitation                                                                                                                                                                                                                                             ']\n",
      "10-Sep-25 14:59:05 [DEBUG] data: [[ 475    1    3 ...   12   19  138]\n",
      " [  43    1    0 ...   64   61   54]\n",
      " [  85   43   38 ...   48   63  475]\n",
      " ...\n",
      " [ 355  196  179 ... 4462 3959 3471]\n",
      " [4534  757  478 ... 6543 6511 6335]\n",
      " [ 251  130  394 ...  406  340  279]]\n",
      "10-Sep-25 14:59:05 [INFO] Reading LabVIEW .box file into a dictionary...\n",
      "10-Sep-25 14:59:05 [DEBUG] Data read from LabVIEW .box file at /Volumes/Tim/Photometry/IM-1875/20250718/IM-1875_2025-07-18_16-07-55____Tim_Conditioning.box:\n",
      "10-Sep-25 14:59:05 [DEBUG] magic_key: 22289481\n",
      "10-Sep-25 14:59:05 [DEBUG] header_size: 20480\n",
      "10-Sep-25 14:59:05 [DEBUG] main_version: 0\n",
      "10-Sep-25 14:59:05 [DEBUG] secondary_version: 0\n",
      "10-Sep-25 14:59:05 [DEBUG] sampling_rate: 10000\n",
      "10-Sep-25 14:59:05 [DEBUG] bytes_per_sample: 1\n",
      "10-Sep-25 14:59:05 [DEBUG] num_channels: 3\n",
      "10-Sep-25 14:59:05 [DEBUG] file_name: C:\\Users\\BerkeLab\\Documents\\Labview\\IM-1875\\2025-07-18\\IM-1875_2025-07-18_16-07-55____Tim_Conditioning.box                                                                                                                                                      \n",
      "10-Sep-25 14:59:05 [DEBUG] date: 2025-07-18                                                                                                                                                                                                                                                      \n",
      "10-Sep-25 14:59:05 [DEBUG] time: 16-07-55                                                                                                                                                                                                                                                        \n",
      "10-Sep-25 14:59:05 [DEBUG] ch1_location: Connector1/DIOPort2                                                                                                                                                                                                                                             \n",
      "10-Sep-25 14:59:05 [DEBUG] ch2_location: Connector1/DIOPort0                                                                                                                                                                                                                                             \n",
      "10-Sep-25 14:59:05 [DEBUG] ch3_location: Connector1/DIOPort1                                                                                                                                                                                                                                             \n",
      "10-Sep-25 14:59:05 [DEBUG] data: [[223 223 223 ... 223 223 223]\n",
      " [255 255 255 ... 255 255 255]\n",
      " [239 239 239 ... 237 237 237]]\n",
      "10-Sep-25 14:59:05 [INFO] Running lockin detection to extract modulated photometry signals with args: \n",
      "tau=10, filter_order=5, detrend=False, full=True\n",
      "10-Sep-25 14:59:44 [DEBUG] The location of the fiber is: NAcc-Core-Left \n",
      "10-Sep-25 14:59:44 [INFO] LabVIEW photometry start time: 2025-07-18 16:07:55-07:00\n"
     ]
    }
   ],
   "source": [
    "import yaml\n",
    "import numpy as np\n",
    "import pandas as pd\n",
    "from jdb_to_nwb.convert_photometry import process_raw_labview_photometry_signals\n",
    "from jdb_to_nwb.plotting.plot_photometry import plot_photometry_signals\n",
    "from jdb_to_nwb.utils import setup_stdout_logger\n",
    "\n",
    "# Read metadata file to get phot and box file paths, or set phot_file_path and box_file_path directly\n",
    "metadata_file_path = \"/Users/steph/berkelab/jdb_to_nwb/metadata/metadata_IM-1875_20250718.yaml\"\n",
    "with open(metadata_file_path, \"r\") as f:\n",
    "    metadata = yaml.safe_load(f)\n",
    "\n",
    "phot_file_path = metadata[\"photometry\"][\"phot_file_path\"] # read from metadata or set this directly\n",
    "box_file_path = metadata[\"photometry\"][\"box_file_path\"] # read from metadata or set this directly\n",
    "\n",
    "# Setup dummy logger that just prints to stdout instead of a logfile\n",
    "logger = setup_stdout_logger(log_name=\"phot_test_log\")\n",
    "\n",
    "# Read raw phot and box files into signals dict\n",
    "signals = process_raw_labview_photometry_signals(phot_file_path, box_file_path, logger)\n",
    "\n",
    "# Downsample the raw data from 10 kHz to 250 Hz by taking every 40th sample\n",
    "SR = 10000  # Original sampling rate of the photometry system (Hz)\n",
    "Fs = 250  # Target downsample frequency (Hz)\n",
    "raw_reference = pd.Series(signals[\"ref\"][:: int(SR / Fs)])\n",
    "raw_green = pd.Series(signals[\"sig1\"][:: int(SR / Fs)])\n",
    "port_visits = np.divide(signals[\"visits\"], SR / Fs).astype(int)\n"
   ]
  },
  {
   "cell_type": "markdown",
   "id": "346f6d79",
   "metadata": {},
   "source": [
    "Plot the raw photometry signals in interactive mode so we can zoom in and see where to crop"
   ]
  },
  {
   "cell_type": "code",
   "execution_count": null,
   "id": "96bb5efe",
   "metadata": {},
   "outputs": [],
   "source": [
    "# interactive mode!\n",
    "%matplotlib tk\n",
    "\n",
    "# Plot the raw signals so we can zoom in and see where to crop\n",
    "fig = plot_photometry_signals(visits=port_visits,\n",
    "                        sampling_rate=Fs,\n",
    "                        signals=[raw_green, raw_reference],\n",
    "                        signal_labels=[\"Raw 470nm signal\", \"Raw 405nm signal\"],\n",
    "                        signal_colors=[\"blue\", \"purple\"],\n",
    "                        title=\"Raw LabVIEW photometry signals\",\n",
    "                        signal_units=\"a.u.\",\n",
    "                        fig_dir=None)\n",
    "fig.show()"
   ]
  },
  {
   "cell_type": "markdown",
   "id": "9d08b73a",
   "metadata": {},
   "source": [
    "Set `phot_end_time_mins` based on the above plot"
   ]
  },
  {
   "cell_type": "code",
   "execution_count": null,
   "id": "c9f42451",
   "metadata": {},
   "outputs": [],
   "source": [
    "phot_end_time_mins = 77.6"
   ]
  },
  {
   "cell_type": "markdown",
   "id": "54735ffb",
   "metadata": {},
   "source": [
    "Sanity check - plot the cropped photometry signals to check that we picked a good end time"
   ]
  },
  {
   "cell_type": "code",
   "execution_count": null,
   "id": "fb072262",
   "metadata": {},
   "outputs": [],
   "source": [
    "# Convert end time into number of photometry samples to keep\n",
    "samples_to_keep = int(phot_end_time_mins * 60 * Fs)\n",
    "\n",
    "# Plot the cropped signals to make sure the crop is good\n",
    "raw_reference_cropped = raw_reference[:samples_to_keep]\n",
    "raw_green_cropped = raw_green[:samples_to_keep]\n",
    "fig = plot_photometry_signals(visits=port_visits,\n",
    "                        sampling_rate=Fs,\n",
    "                        signals=[raw_green_cropped, raw_reference_cropped],\n",
    "                        signal_labels=[\"Raw 470nm signal\", \"Raw 405nm signal\"],\n",
    "                        signal_colors=[\"blue\", \"purple\"],\n",
    "                        title=\"Cropped photometry signals\",\n",
    "                        signal_units=\"a.u.\",\n",
    "                        fig_dir=None)\n",
    "fig.show()"
   ]
  },
  {
   "cell_type": "markdown",
   "id": "ba16b3fa",
   "metadata": {},
   "source": [
    "Now go set `phot_end_time_mins` in the your metadata file under `photometry` so the nwb conversion pipeline crops your signal to only the valid times :)"
   ]
  }
 ],
 "metadata": {
  "kernelspec": {
   "display_name": "jdb_to_nwb",
   "language": "python",
   "name": "python3"
  },
  "language_info": {
   "codemirror_mode": {
    "name": "ipython",
    "version": 3
   },
   "file_extension": ".py",
   "mimetype": "text/x-python",
   "name": "python",
   "nbconvert_exporter": "python",
   "pygments_lexer": "ipython3",
   "version": "3.13.1"
  }
 },
 "nbformat": 4,
 "nbformat_minor": 5
}
